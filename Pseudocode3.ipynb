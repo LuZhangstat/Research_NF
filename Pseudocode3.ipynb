{
  "nbformat": 4,
  "nbformat_minor": 0,
  "metadata": {
    "colab": {
      "provenance": []
    },
    "kernelspec": {
      "name": "python3",
      "display_name": "Python 3"
    },
    "language_info": {
      "name": "python"
    }
  },
  "cells": [
    {
      "cell_type": "code",
      "execution_count": null,
      "metadata": {
        "id": "gnDb-ayHllGG"
      },
      "outputs": [],
      "source": [
        "import numpy as np\n",
        "from scipy.sparse import csr_matrix\n",
        "def grad_psi_a_sparse(x):\n",
        "  n = len(x)\n",
        "  if np.all(x >= 0):\n",
        "    if 0 < x[0] < 1:\n",
        "      V_a = csr_matrix((np.array([x[0]]), (np.array([0]), np.array([0]))), shape=(n, 1))\n",
        "    else:\n",
        "        V_a = csr_matrix((np.array([1.0]), (np.array([0]), np.array([0]))), shape=(n, 1))\n",
        "    return V_a\n",
        "  else:\n",
        "    return csr_matrix((n, 1))"
      ]
    },
    {
      "cell_type": "code",
      "source": [
        "#Example\n",
        "x_example = np.array([0.5, 0.4, 0.3])\n",
        "gradient_sparse = grad_psi_a_sparse(x_example)\n",
        "print(\"Sparse Gradient:\\n\", gradient_sparse)"
      ],
      "metadata": {
        "colab": {
          "base_uri": "https://localhost:8080/"
        },
        "id": "sKwTg44zm_gr",
        "outputId": "c9336771-73d4-4848-c66c-d7f5cd673683"
      },
      "execution_count": null,
      "outputs": [
        {
          "output_type": "stream",
          "name": "stdout",
          "text": [
            "Sparse Gradient:\n",
            "   (0, 0)\t0.5\n"
          ]
        }
      ]
    },
    {
      "cell_type": "markdown",
      "source": [
        "Input range is **within** (0,1).\n",
        "All elements are positive"
      ],
      "metadata": {
        "id": "wxMFvXdIvW3q"
      }
    },
    {
      "cell_type": "code",
      "source": [
        "#Example\n",
        "x_example = np.array([1.5, 0.1, 0.3])\n",
        "gradient_sparse = grad_psi_a_sparse(x_example)\n",
        "print(\"Sparse Gradient:\\n\", gradient_sparse)"
      ],
      "metadata": {
        "colab": {
          "base_uri": "https://localhost:8080/"
        },
        "id": "c1MTrDhiqNju",
        "outputId": "7292fb0c-d468-4c01-f330-24776101cc08"
      },
      "execution_count": null,
      "outputs": [
        {
          "output_type": "stream",
          "name": "stdout",
          "text": [
            "Sparse Gradient:\n",
            "   (0, 0)\t1.0\n"
          ]
        }
      ]
    },
    {
      "cell_type": "markdown",
      "source": [
        "Input range is **outside** (0,1).\n",
        "All elements are positive."
      ],
      "metadata": {
        "id": "crQ4JbQ7vtED"
      }
    },
    {
      "cell_type": "code",
      "source": [
        "#Example\n",
        "x_example = np.array([-0.2, 0.1, 0.3])\n",
        "gradient_sparse = grad_psi_a_sparse(x_example)\n",
        "print(\"Sparse Gradient:\\n\", gradient_sparse)"
      ],
      "metadata": {
        "colab": {
          "base_uri": "https://localhost:8080/"
        },
        "id": "QpSOOk-OuJQF",
        "outputId": "0d79e0ad-9231-4a52-d735-b74886426deb"
      },
      "execution_count": null,
      "outputs": [
        {
          "output_type": "stream",
          "name": "stdout",
          "text": [
            "Sparse Gradient:\n",
            " \n"
          ]
        }
      ]
    },
    {
      "cell_type": "markdown",
      "source": [
        "Input has **negative** elements."
      ],
      "metadata": {
        "id": "S5F9IwqVv_cZ"
      }
    },
    {
      "cell_type": "code",
      "source": [
        "import unittest\n",
        "import numpy as np\n",
        "from scipy.sparse import csr_matrix\n",
        "\n",
        "def grad_psi_a_sparse(x):\n",
        "  n = len(x)\n",
        "  if np.all(x >= 0):\n",
        "    if 0 < x[0] < 1:\n",
        "      return csr_matrix((np.array([x[0]]), (np.array([0]), np.array([0]))), shape=(n, 1))\n",
        "    else:\n",
        "      return csr_matrix((np.array([1.0]), (np.array([0]), np.array([0]))), shape=(n, 1))\n",
        "  return csr_matrix((n, 1))\n",
        "\n",
        "class TestGradPsiASparse(unittest.TestCase):\n",
        "\n",
        "    def test_gradient_non_negative_within_range(self):\n",
        "        x = np.array([0.5, 0.2, 0.3])\n",
        "        result = grad_psi_a_sparse(x)\n",
        "        self.assertAlmostEqual(result[0, 0], 0.5)\n",
        "\n",
        "    def test_gradient_non_negative_outside_range(self):\n",
        "        x = np.array([1.5, 0.2, 0.3])\n",
        "        result = grad_psi_a_sparse(x)\n",
        "        self.assertEqual(result[0, 0], 1.0)\n",
        "\n",
        "    def test_gradient_negative_element(self):\n",
        "        x = np.array([-0.1, 0.2, 0.3])\n",
        "        result = grad_psi_a_sparse(x)\n",
        "        self.assertEqual(result.nnz, 0)\n",
        "\n",
        "\n",
        "def run_tests():\n",
        "    suite = unittest.TestLoader().loadTestsFromTestCase(TestGradPsiASparse)\n",
        "    unittest.TextTestRunner().run(suite)\n",
        "\n",
        "run_tests()\n",
        "\n"
      ],
      "metadata": {
        "colab": {
          "base_uri": "https://localhost:8080/"
        },
        "id": "WSHC7KF9y0Aj",
        "outputId": "438a519a-9d8f-405e-abbf-fdac3bad54e4"
      },
      "execution_count": null,
      "outputs": [
        {
          "output_type": "stream",
          "name": "stderr",
          "text": [
            "...\n",
            "----------------------------------------------------------------------\n",
            "Ran 3 tests in 0.022s\n",
            "\n",
            "OK\n"
          ]
        }
      ]
    },
    {
      "cell_type": "code",
      "source": [],
      "metadata": {
        "id": "fzlEUHiCxu4A"
      },
      "execution_count": null,
      "outputs": []
    }
  ]
}